{
 "cells": [
  {
   "cell_type": "code",
   "execution_count": 1,
   "metadata": {},
   "outputs": [],
   "source": [
    "from neo4j import GraphDatabase\n",
    "import openrouteservice\n",
    "import pandas as pd"
   ]
  },
  {
   "cell_type": "code",
   "execution_count": 2,
   "metadata": {},
   "outputs": [],
   "source": [
    "URI = \"bolt://localhost:7687\"  \n",
    "USERNAME = \"neo4j\"  \n",
    "PASSWORD = \"Tanazi369\"  \n",
    "DATABASE = \"neo4j\" \n",
    "\n"
   ]
  },
  {
   "cell_type": "code",
   "execution_count": 3,
   "metadata": {},
   "outputs": [],
   "source": [
    "API_KEY = \"5b3ce3597851110001cf6248b2b74b27a89f4836aa6790441684f9ea\"\n",
    "client = openrouteservice.Client(key=API_KEY)"
   ]
  },
  {
   "cell_type": "code",
   "execution_count": 4,
   "metadata": {},
   "outputs": [],
   "source": [
    "driver = GraphDatabase.driver(URI, auth=(USERNAME, PASSWORD))\n",
    "\n",
    "csv_files = {\n",
    "    \"Vehicle\": r\"dataset/vehicle_updated.csv\",\n",
    "    \"Warehouse\": r\"dataset/warehouse_updated.csv\",\n",
    "    \"Customer\": r\"dataset/customer_updated.csv\",\n",
    "    \"Order\": r\"dataset/order.csv\"\n",
    "}\n"
   ]
  },
  {
   "cell_type": "code",
   "execution_count": 5,
   "metadata": {},
   "outputs": [],
   "source": [
    "def create_nodes(tx, label, properties):\n",
    "        \n",
    "    if \"Latitude\" in properties and \"Longitude\" in properties:\n",
    "        lat, lon = properties.pop(\"Latitude\"), properties.pop(\"Longitude\")\n",
    "        query = f\"\"\"\n",
    "        CREATE (n:{label} {{ {', '.join(f'{key}: ${key}' for key in properties.keys())}, location: point({{latitude: $lat, longitude: $lon}}) }})\n",
    "        \"\"\"\n",
    "        properties[\"lat\"] = lat\n",
    "        properties[\"lon\"] = lon\n",
    "   \n",
    "    else:\n",
    "        query = f\"\"\"\n",
    "        CREATE (n:{label} {{ {', '.join(f'{key}: ${key}' for key in properties.keys())} }})\n",
    "        \"\"\"\n",
    "    tx.run(query, **properties)\n",
    "\n",
    "\n",
    "def load_to_neo4j():\n",
    "    with driver.session(database=DATABASE) as session:\n",
    "        for label, file_path in csv_files.items():\n",
    "            df = pd.read_csv(file_path)            \n",
    "            for _, row in df.iterrows():\n",
    "                properties = {col: row[col] for col in df.columns if pd.notna(row[col])}  \n",
    "                \n",
    "                if label==\"Order\":\n",
    "                    properties = {key: value for key, value in properties.items() if key not in [\"Customer_ID\", \"Warehouse_ID\"]}      \n",
    "\n",
    "                session.execute_write(create_nodes, label, properties)\n",
    "\n",
    "            print(f\"Nodes for {label} created successfully!\")\n"
   ]
  },
  {
   "cell_type": "code",
   "execution_count": 6,
   "metadata": {},
   "outputs": [],
   "source": [
    "def relation_from_orders(tx, order_id, customer_id, warehouse_id):\n",
    "    query = \"\"\"\n",
    "    MATCH (o:Order {Order_ID: $order_id})\n",
    "    MATCH (c:Customer {Customer_ID: $customer_id})\n",
    "    MATCH (w:Warehouse {Warehouse_ID: $warehouse_id})\n",
    "    MERGE (o)-[:PLACED_BY]->(c)\n",
    "    MERGE (o)-[:SHIPPED_FROM]->(w)\n",
    "    \"\"\"\n",
    "    tx.run(query, order_id=order_id, customer_id=customer_id, warehouse_id=warehouse_id)\n"
   ]
  },
  {
   "cell_type": "code",
   "execution_count": 7,
   "metadata": {},
   "outputs": [],
   "source": [
    "def connect_orders(file_path):\n",
    "    df = pd.read_csv(file_path)\n",
    "        \n",
    "    with driver.session(database=DATABASE) as session:\n",
    "        for _, row in df.iterrows():\n",
    "            order_id = row[\"Order_ID\"]\n",
    "            customer_id = row[\"Customer_ID\"]\n",
    "            warehouse_id = row[\"Warehouse_ID\"]\n",
    "            session.execute_write(relation_from_orders, order_id, customer_id, warehouse_id)\n",
    "\n",
    "        print(\"Orders are connected with respective warehouse and customer!\")"
   ]
  },
  {
   "cell_type": "code",
   "execution_count": 8,
   "metadata": {},
   "outputs": [],
   "source": [
    "def route_between_two_points(coords):\n",
    "    route = client.directions(coords, profile='driving-car', format='json')\n",
    "    distance = route[\"routes\"][0][\"summary\"][\"distance\"]\n",
    "    duration = route[\"routes\"][0][\"summary\"][\"duration\"]\n",
    "    return distance,duration\n",
    "\n",
    "    "
   ]
  },
  {
   "cell_type": "code",
   "execution_count": 9,
   "metadata": {},
   "outputs": [],
   "source": [
    "def route_relationship(tx, label1, id1, label2, id2, rel_type, properties):    \n",
    "   \n",
    "        properties_str = \", \".join(f\"{key}: ${key}\" for key in properties.keys()) if properties else \"\"     \n",
    "        query = f\"\"\"\n",
    "            MATCH (a:{label1} {{{label1}_ID: $id1}}), (b:{label2} {{{label2}_ID: $id2}})\n",
    "            MERGE (a)-[r:{rel_type} {{ {properties_str} }}]->(b)\n",
    "            \"\"\"\n",
    "        params = {\"id1\": id1, \"id2\": id2}    \n",
    "        if properties:\n",
    "            params.update(properties)\n",
    "        tx.run(query, **params)\n"
   ]
  },
  {
   "cell_type": "code",
   "execution_count": 10,
   "metadata": {},
   "outputs": [],
   "source": [
    "def generate_routes():\n",
    "    \n",
    "    with driver.session(database=DATABASE) as session:\n",
    "        query = \"\"\"\n",
    "        MATCH (o:Order)-[:SHIPPED_FROM]->(w:Warehouse), (o)-[:PLACED_BY]->(c:Customer)\n",
    "        RETURN o.Order_ID AS order_id, w.Warehouse_ID AS warehouse_id, w.location AS warehouse_location,\n",
    "               c.Customer_ID AS customer_id, c.location AS customer_location\n",
    "        \"\"\"\n",
    "        \n",
    "        orders = session.execute_read(lambda tx: \n",
    "            [{\"order_id\": record[\"order_id\"], \n",
    "              \"warehouse_id\": record[\"warehouse_id\"], \n",
    "              \"warehouse_location\": record[\"warehouse_location\"], \n",
    "              \"customer_id\": record[\"customer_id\"], \n",
    "              \"customer_location\": record[\"customer_location\"]}\n",
    "             for record in tx.run(query)]\n",
    "        )\n",
    "\n",
    "        failed_connections=[]\n",
    "        \n",
    "        for order in orders:\n",
    "            warehouse_location = order[\"warehouse_location\"]\n",
    "            customer_location = order[\"customer_location\"]\n",
    "            warehouse_id=order[\"warehouse_id\"]\n",
    "            customer_id=order[\"customer_id\"]\n",
    "            \n",
    "            warehouse_coords = (warehouse_location.x, warehouse_location.y)  \n",
    "            customer_coords = (customer_location.x, customer_location.y)  \n",
    "            coords = [warehouse_coords, customer_coords]           \n",
    "                \n",
    "            try:\n",
    "                distance,duration=route_between_two_points(coords)\n",
    "                distance_km = round(distance / 1000, 4)  \n",
    "                duration_hr = round(duration / 3600, 4)\n",
    "                session.execute_write(route_relationship, \"Warehouse\",warehouse_id,\"Customer\", customer_id,\"DELIVERS_TO\",{\"distance\": distance_km, \"duration\": duration_hr})\n",
    "                print(f\"Connected Warehouse {warehouse_id} -> Customer {customer_id} [Distance: {distance_km}km, Duration: {duration_hr}hr]\")\n",
    "            \n",
    "            except Exception as e:\n",
    "                print(f\"Failed to connect {warehouse_id} -> {customer_id}: {str(e)}\")\n",
    "                failed_connections.append({\"warehouse_id\": warehouse_id, \"customer_id\": customer_id})\n",
    "            \n",
    "        \n",
    "        print()        \n",
    "        print(failed_connections)\n",
    "\n"
   ]
  },
  {
   "cell_type": "code",
   "execution_count": 11,
   "metadata": {},
   "outputs": [],
   "source": [
    "def assign_vehicles_to_nearest_warehouse():\n",
    "    with driver.session(database=DATABASE) as session:\n",
    "        \n",
    "        vehicles = session.execute_read(lambda tx: [\n",
    "            {\"vehicle_id\": record[\"vehicle_id\"], \"location\": record[\"location\"]}\n",
    "            for record in tx.run(\"MATCH (v:Vehicle) RETURN v.Vehicle_ID AS vehicle_id, v.location AS location\")\n",
    "        ])\n",
    "\n",
    "        warehouses = session.execute_read(lambda tx: [\n",
    "            {\"warehouse_id\": record[\"warehouse_id\"], \"location\": record[\"location\"]}\n",
    "            for record in tx.run(\"MATCH (w:Warehouse) RETURN w.Warehouse_ID AS warehouse_id, w.location AS location\")\n",
    "        ])\n",
    "\n",
    "        for vehicle in vehicles:\n",
    "            v_loc = vehicle[\"location\"]\n",
    "            v_coords = (v_loc.x, v_loc.y)\n",
    "\n",
    "            min_distance = float(\"inf\")\n",
    "            closest_warehouse = None\n",
    "            duration_for_closest = None\n",
    "\n",
    "            for warehouse in warehouses:\n",
    "                w_loc = warehouse[\"location\"]\n",
    "                w_coords = (w_loc.x, w_loc.y)\n",
    "\n",
    "                try:\n",
    "                    distance, duration = route_between_two_points([v_coords, w_coords])\n",
    "                    if distance < min_distance:\n",
    "                        min_distance = distance\n",
    "                        duration_for_closest = duration\n",
    "                        closest_warehouse = warehouse\n",
    "                except:\n",
    "                    continue\n",
    "\n",
    "            if closest_warehouse:\n",
    "                warehouse_id = closest_warehouse[\"warehouse_id\"]\n",
    "                vehicle_id = vehicle[\"vehicle_id\"]\n",
    "                distance_km = round(min_distance / 1000, 2)\n",
    "                duration_hr = round(duration_for_closest / 3600, 2)  \n",
    "\n",
    "                def create_route(tx):\n",
    "                    query = \"\"\"\n",
    "                    MATCH (v:Vehicle {Vehicle_ID: $vehicle_id})\n",
    "                    MATCH (w:Warehouse {Warehouse_ID: $warehouse_id})\n",
    "                    MERGE (v)-[r:ROUTE_TO]->(w)\n",
    "                    SET r.vehicle = $vehicle_id,\n",
    "                        r.order = 1,\n",
    "                        r.distance = $distance_km,\n",
    "                        r.duration = $duration_hr\n",
    "                    \"\"\"\n",
    "                    tx.run(query, vehicle_id=vehicle_id, warehouse_id=warehouse_id, distance_km=distance_km, duration_hr=duration_hr)\n",
    "\n",
    "                session.execute_write(create_route)\n",
    "                print(f\"Vehicle {vehicle_id} routed to Warehouse {warehouse_id} [Distance: {distance_km} km, Duration: {duration_hr} hr]\")\n",
    "\n",
    "\n"
   ]
  },
  {
   "cell_type": "code",
   "execution_count": 37,
   "metadata": {},
   "outputs": [],
   "source": [
    "def cluster_customers():\n",
    "    with driver.session(database=DATABASE) as session:\n",
    "        session.run(\"\"\"\n",
    "            CALL gds.dbscan.write(\n",
    "                'deliveryGraph',\n",
    "                {\n",
    "                    writeProperty: 'localCluster',\n",
    "                    minPts: 2,\n",
    "                    epsilon: 10.0,\n",
    "                    relationshipWeightProperty: 'distance'\n",
    "                }\n",
    "            )\n",
    "        \"\"\")\n",
    "        print(\"DBSCAN clustering completed. Results stored in 'localCluster' property.\")\n"
   ]
  },
  {
   "cell_type": "code",
   "execution_count": 33,
   "metadata": {},
   "outputs": [],
   "source": [
    "def project_graph_for_gds():\n",
    "    with driver.session(database=DATABASE) as session:\n",
    "        session.run(\"\"\"\n",
    "            CALL gds.graph.project(\n",
    "                'deliveryGraph',\n",
    "                ['Warehouse', 'Customer'],\n",
    "                {\n",
    "                    DELIVERS_TO: {\n",
    "                        properties: ['distance', 'duration']\n",
    "                    }\n",
    "                }\n",
    "            )\n",
    "        \"\"\")\n",
    "        print(\"Graph projected into GDS as 'deliveryGraph'.\")\n"
   ]
  },
  {
   "cell_type": "code",
   "execution_count": 22,
   "metadata": {},
   "outputs": [
    {
     "name": "stdout",
     "output_type": "stream",
     "text": [
      "Nodes for Vehicle created successfully!\n",
      "Nodes for Warehouse created successfully!\n",
      "Nodes for Customer created successfully!\n",
      "Nodes for Order created successfully!\n"
     ]
    }
   ],
   "source": [
    "load_to_neo4j()"
   ]
  },
  {
   "cell_type": "code",
   "execution_count": 23,
   "metadata": {},
   "outputs": [
    {
     "name": "stdout",
     "output_type": "stream",
     "text": [
      "Orders are connected with respective warehouse and customer!\n"
     ]
    }
   ],
   "source": [
    "connect_orders(csv_files[\"Order\"])"
   ]
  },
  {
   "cell_type": "code",
   "execution_count": 24,
   "metadata": {},
   "outputs": [
    {
     "name": "stdout",
     "output_type": "stream",
     "text": [
      "Connected Warehouse W001 -> Customer C006 [Distance: 331.8729km, Duration: 4.4134hr]\n",
      "Connected Warehouse W001 -> Customer C007 [Distance: 693.6938km, Duration: 9.3331hr]\n",
      "Connected Warehouse W001 -> Customer C012 [Distance: 693.6938km, Duration: 9.3331hr]\n",
      "Connected Warehouse W001 -> Customer C013 [Distance: 647.4129km, Duration: 8.2888hr]\n",
      "Connected Warehouse W001 -> Customer C023 [Distance: 8.6937km, Duration: 0.2348hr]\n",
      "Connected Warehouse W001 -> Customer C024 [Distance: 649.9511km, Duration: 8.407hr]\n",
      "Connected Warehouse W001 -> Customer C025 [Distance: 667.1664km, Duration: 8.8581hr]\n",
      "Connected Warehouse W002 -> Customer C001 [Distance: 1.532km, Duration: 0.0517hr]\n",
      "Connected Warehouse W002 -> Customer C004 [Distance: 575.6503km, Duration: 7.5724hr]\n",
      "Connected Warehouse W002 -> Customer C008 [Distance: 570.5281km, Duration: 7.5204hr]\n",
      "Connected Warehouse W002 -> Customer C018 [Distance: 327.6005km, Duration: 4.3245hr]\n",
      "Connected Warehouse W002 -> Customer C019 [Distance: 347.4354km, Duration: 4.8326hr]\n",
      "Connected Warehouse W002 -> Customer C020 [Distance: 322.0381km, Duration: 4.5584hr]\n",
      "Connected Warehouse W002 -> Customer C022 [Distance: 574.2312km, Duration: 7.5335hr]\n",
      "Connected Warehouse W002 -> Customer C027 [Distance: 324.6567km, Duration: 4.2436hr]\n",
      "Connected Warehouse W002 -> Customer C028 [Distance: 569.6116km, Duration: 7.4285hr]\n",
      "Connected Warehouse W003 -> Customer C003 [Distance: 7.789km, Duration: 0.2352hr]\n",
      "Connected Warehouse W003 -> Customer C016 [Distance: 656.3975km, Duration: 8.7558hr]\n",
      "Connected Warehouse W003 -> Customer C021 [Distance: 7.789km, Duration: 0.2352hr]\n",
      "Connected Warehouse W004 -> Customer C002 [Distance: 641.1583km, Duration: 8.1059hr]\n",
      "Connected Warehouse W004 -> Customer C005 [Distance: 646.4304km, Duration: 8.2354hr]\n"
     ]
    },
    {
     "name": "stderr",
     "output_type": "stream",
     "text": [
      "c:\\Users\\Tanaz\\AppData\\Local\\Programs\\Python\\Python310\\lib\\site-packages\\openrouteservice\\client.py:211: UserWarning: Rate limit exceeded. Retrying for the 1st time.\n",
      "  warnings.warn('Rate limit exceeded. Retrying for the {0}{1} time.'.format(retry_counter + 1,\n"
     ]
    },
    {
     "name": "stdout",
     "output_type": "stream",
     "text": [
      "Connected Warehouse W004 -> Customer C010 [Distance: 572.6078km, Duration: 7.5186hr]\n"
     ]
    },
    {
     "name": "stderr",
     "output_type": "stream",
     "text": [
      "c:\\Users\\Tanaz\\AppData\\Local\\Programs\\Python\\Python310\\lib\\site-packages\\openrouteservice\\client.py:211: UserWarning: Rate limit exceeded. Retrying for the 2nd time.\n",
      "  warnings.warn('Rate limit exceeded. Retrying for the {0}{1} time.'.format(retry_counter + 1,\n"
     ]
    },
    {
     "name": "stdout",
     "output_type": "stream",
     "text": [
      "Connected Warehouse W004 -> Customer C026 [Distance: 576.595km, Duration: 7.6076hr]\n",
      "Connected Warehouse W005 -> Customer C009 [Distance: 4.9447km, Duration: 0.096hr]\n",
      "Connected Warehouse W005 -> Customer C011 [Distance: 491.548km, Duration: 6.1771hr]\n",
      "Connected Warehouse W005 -> Customer C014 [Distance: 344.4552km, Duration: 4.404hr]\n"
     ]
    },
    {
     "name": "stderr",
     "output_type": "stream",
     "text": [
      "c:\\Users\\Tanaz\\AppData\\Local\\Programs\\Python\\Python310\\lib\\site-packages\\openrouteservice\\client.py:211: UserWarning: Rate limit exceeded. Retrying for the 3rd time.\n",
      "  warnings.warn('Rate limit exceeded. Retrying for the {0}{1} time.'.format(retry_counter + 1,\n",
      "c:\\Users\\Tanaz\\AppData\\Local\\Programs\\Python\\Python310\\lib\\site-packages\\openrouteservice\\client.py:211: UserWarning: Rate limit exceeded. Retrying for the 4th time.\n",
      "  warnings.warn('Rate limit exceeded. Retrying for the {0}{1} time.'.format(retry_counter + 1,\n",
      "c:\\Users\\Tanaz\\AppData\\Local\\Programs\\Python\\Python310\\lib\\site-packages\\openrouteservice\\client.py:211: UserWarning: Rate limit exceeded. Retrying for the 5th time.\n",
      "  warnings.warn('Rate limit exceeded. Retrying for the {0}{1} time.'.format(retry_counter + 1,\n",
      "c:\\Users\\Tanaz\\AppData\\Local\\Programs\\Python\\Python310\\lib\\site-packages\\openrouteservice\\client.py:211: UserWarning: Rate limit exceeded. Retrying for the 6th time.\n",
      "  warnings.warn('Rate limit exceeded. Retrying for the {0}{1} time.'.format(retry_counter + 1,\n",
      "c:\\Users\\Tanaz\\AppData\\Local\\Programs\\Python\\Python310\\lib\\site-packages\\openrouteservice\\client.py:211: UserWarning: Rate limit exceeded. Retrying for the 7th time.\n",
      "  warnings.warn('Rate limit exceeded. Retrying for the {0}{1} time.'.format(retry_counter + 1,\n",
      "c:\\Users\\Tanaz\\AppData\\Local\\Programs\\Python\\Python310\\lib\\site-packages\\openrouteservice\\client.py:211: UserWarning: Rate limit exceeded. Retrying for the 8th time.\n",
      "  warnings.warn('Rate limit exceeded. Retrying for the {0}{1} time.'.format(retry_counter + 1,\n"
     ]
    },
    {
     "name": "stdout",
     "output_type": "stream",
     "text": [
      "Connected Warehouse W005 -> Customer C015 [Distance: 241.3347km, Duration: 3.8482hr]\n",
      "Connected Warehouse W005 -> Customer C017 [Distance: 333.8207km, Duration: 4.224hr]\n",
      "Connected Warehouse W005 -> Customer C029 [Distance: 3.2795km, Duration: 0.0633hr]\n",
      "Connected Warehouse W005 -> Customer C030 [Distance: 4.7868km, Duration: 0.074hr]\n",
      "\n",
      "[]\n"
     ]
    }
   ],
   "source": [
    "generate_routes()"
   ]
  },
  {
   "cell_type": "code",
   "execution_count": 25,
   "metadata": {},
   "outputs": [
    {
     "name": "stdout",
     "output_type": "stream",
     "text": [
      "Vehicle V001 routed to Warehouse W005 [Distance: 3.53 km, Duration: 0.08 hr]\n",
      "Vehicle V002 routed to Warehouse W001 [Distance: 8.27 km, Duration: 0.22 hr]\n",
      "Vehicle V003 routed to Warehouse W002 [Distance: 3.23 km, Duration: 0.1 hr]\n",
      "Vehicle V004 routed to Warehouse W003 [Distance: 7.92 km, Duration: 0.24 hr]\n",
      "Vehicle V005 routed to Warehouse W004 [Distance: 14.02 km, Duration: 0.35 hr]\n"
     ]
    }
   ],
   "source": [
    "assign_vehicles_to_nearest_warehouse()"
   ]
  },
  {
   "cell_type": "code",
   "execution_count": 35,
   "metadata": {},
   "outputs": [
    {
     "name": "stdout",
     "output_type": "stream",
     "text": [
      "Graph projected into GDS as 'deliveryGraph'.\n"
     ]
    }
   ],
   "source": [
    "project_graph_for_gds()"
   ]
  },
  {
   "cell_type": "code",
   "execution_count": 38,
   "metadata": {},
   "outputs": [
    {
     "ename": "ClientError",
     "evalue": "{code: Neo.ClientError.Procedure.ProcedureNotFound} {message: There is no procedure with the name `gds.dbscan.write` registered for this database instance. Please ensure you've spelled the procedure name correctly and that the procedure is properly deployed.}",
     "output_type": "error",
     "traceback": [
      "\u001b[1;31m---------------------------------------------------------------------------\u001b[0m",
      "\u001b[1;31mClientError\u001b[0m                               Traceback (most recent call last)",
      "Cell \u001b[1;32mIn[38], line 1\u001b[0m\n\u001b[1;32m----> 1\u001b[0m \u001b[43mcluster_customers\u001b[49m\u001b[43m(\u001b[49m\u001b[43m)\u001b[49m\n",
      "Cell \u001b[1;32mIn[37], line 3\u001b[0m, in \u001b[0;36mcluster_customers\u001b[1;34m()\u001b[0m\n\u001b[0;32m      1\u001b[0m \u001b[38;5;28;01mdef\u001b[39;00m \u001b[38;5;21mcluster_customers\u001b[39m():\n\u001b[0;32m      2\u001b[0m     \u001b[38;5;28;01mwith\u001b[39;00m driver\u001b[38;5;241m.\u001b[39msession(database\u001b[38;5;241m=\u001b[39mDATABASE) \u001b[38;5;28;01mas\u001b[39;00m session:\n\u001b[1;32m----> 3\u001b[0m         \u001b[43msession\u001b[49m\u001b[38;5;241;43m.\u001b[39;49m\u001b[43mrun\u001b[49m\u001b[43m(\u001b[49m\u001b[38;5;124;43m\"\"\"\u001b[39;49m\n\u001b[0;32m      4\u001b[0m \u001b[38;5;124;43m            CALL gds.dbscan.write(\u001b[39;49m\n\u001b[0;32m      5\u001b[0m \u001b[38;5;124;43m                \u001b[39;49m\u001b[38;5;124;43m'\u001b[39;49m\u001b[38;5;124;43mdeliveryGraph\u001b[39;49m\u001b[38;5;124;43m'\u001b[39;49m\u001b[38;5;124;43m,\u001b[39;49m\n\u001b[0;32m      6\u001b[0m \u001b[38;5;124;43m                \u001b[39;49m\u001b[38;5;124;43m{\u001b[39;49m\n\u001b[0;32m      7\u001b[0m \u001b[38;5;124;43m                    writeProperty: \u001b[39;49m\u001b[38;5;124;43m'\u001b[39;49m\u001b[38;5;124;43mlocalCluster\u001b[39;49m\u001b[38;5;124;43m'\u001b[39;49m\u001b[38;5;124;43m,\u001b[39;49m\n\u001b[0;32m      8\u001b[0m \u001b[38;5;124;43m                    minPts: 2,\u001b[39;49m\n\u001b[0;32m      9\u001b[0m \u001b[38;5;124;43m                    epsilon: 10.0,\u001b[39;49m\n\u001b[0;32m     10\u001b[0m \u001b[38;5;124;43m                    relationshipWeightProperty: \u001b[39;49m\u001b[38;5;124;43m'\u001b[39;49m\u001b[38;5;124;43mdistance\u001b[39;49m\u001b[38;5;124;43m'\u001b[39;49m\n\u001b[0;32m     11\u001b[0m \u001b[38;5;124;43m                }\u001b[39;49m\n\u001b[0;32m     12\u001b[0m \u001b[38;5;124;43m            )\u001b[39;49m\n\u001b[0;32m     13\u001b[0m \u001b[38;5;124;43m        \u001b[39;49m\u001b[38;5;124;43m\"\"\"\u001b[39;49m\u001b[43m)\u001b[49m\n\u001b[0;32m     14\u001b[0m         \u001b[38;5;28mprint\u001b[39m(\u001b[38;5;124m\"\u001b[39m\u001b[38;5;124mDBSCAN clustering completed. Results stored in \u001b[39m\u001b[38;5;124m'\u001b[39m\u001b[38;5;124mlocalCluster\u001b[39m\u001b[38;5;124m'\u001b[39m\u001b[38;5;124m property.\u001b[39m\u001b[38;5;124m\"\u001b[39m)\n",
      "File \u001b[1;32mc:\\Users\\Tanaz\\AppData\\Local\\Programs\\Python\\Python310\\lib\\site-packages\\neo4j\\_sync\\work\\session.py:328\u001b[0m, in \u001b[0;36mSession.run\u001b[1;34m(self, query, parameters, **kwargs)\u001b[0m\n\u001b[0;32m    326\u001b[0m bookmarks \u001b[38;5;241m=\u001b[39m \u001b[38;5;28mself\u001b[39m\u001b[38;5;241m.\u001b[39m_get_bookmarks()\n\u001b[0;32m    327\u001b[0m parameters \u001b[38;5;241m=\u001b[39m \u001b[38;5;28mdict\u001b[39m(parameters \u001b[38;5;129;01mor\u001b[39;00m {}, \u001b[38;5;241m*\u001b[39m\u001b[38;5;241m*\u001b[39mkwargs)\n\u001b[1;32m--> 328\u001b[0m \u001b[38;5;28;43mself\u001b[39;49m\u001b[38;5;241;43m.\u001b[39;49m\u001b[43m_auto_result\u001b[49m\u001b[38;5;241;43m.\u001b[39;49m\u001b[43m_run\u001b[49m\u001b[43m(\u001b[49m\n\u001b[0;32m    329\u001b[0m \u001b[43m    \u001b[49m\u001b[43mquery\u001b[49m\u001b[43m,\u001b[49m\n\u001b[0;32m    330\u001b[0m \u001b[43m    \u001b[49m\u001b[43mparameters\u001b[49m\u001b[43m,\u001b[49m\n\u001b[0;32m    331\u001b[0m \u001b[43m    \u001b[49m\u001b[38;5;28;43mself\u001b[39;49m\u001b[38;5;241;43m.\u001b[39;49m\u001b[43m_config\u001b[49m\u001b[38;5;241;43m.\u001b[39;49m\u001b[43mdatabase\u001b[49m\u001b[43m,\u001b[49m\n\u001b[0;32m    332\u001b[0m \u001b[43m    \u001b[49m\u001b[38;5;28;43mself\u001b[39;49m\u001b[38;5;241;43m.\u001b[39;49m\u001b[43m_config\u001b[49m\u001b[38;5;241;43m.\u001b[39;49m\u001b[43mimpersonated_user\u001b[49m\u001b[43m,\u001b[49m\n\u001b[0;32m    333\u001b[0m \u001b[43m    \u001b[49m\u001b[38;5;28;43mself\u001b[39;49m\u001b[38;5;241;43m.\u001b[39;49m\u001b[43m_config\u001b[49m\u001b[38;5;241;43m.\u001b[39;49m\u001b[43mdefault_access_mode\u001b[49m\u001b[43m,\u001b[49m\n\u001b[0;32m    334\u001b[0m \u001b[43m    \u001b[49m\u001b[43mbookmarks\u001b[49m\u001b[43m,\u001b[49m\n\u001b[0;32m    335\u001b[0m \u001b[43m    \u001b[49m\u001b[38;5;28;43mself\u001b[39;49m\u001b[38;5;241;43m.\u001b[39;49m\u001b[43m_config\u001b[49m\u001b[38;5;241;43m.\u001b[39;49m\u001b[43mnotifications_min_severity\u001b[49m\u001b[43m,\u001b[49m\n\u001b[0;32m    336\u001b[0m \u001b[43m    \u001b[49m\u001b[38;5;28;43mself\u001b[39;49m\u001b[38;5;241;43m.\u001b[39;49m\u001b[43m_config\u001b[49m\u001b[38;5;241;43m.\u001b[39;49m\u001b[43mnotifications_disabled_classifications\u001b[49m\u001b[43m,\u001b[49m\n\u001b[0;32m    337\u001b[0m \u001b[43m\u001b[49m\u001b[43m)\u001b[49m\n\u001b[0;32m    339\u001b[0m \u001b[38;5;28;01mreturn\u001b[39;00m \u001b[38;5;28mself\u001b[39m\u001b[38;5;241m.\u001b[39m_auto_result\n",
      "File \u001b[1;32mc:\\Users\\Tanaz\\AppData\\Local\\Programs\\Python\\Python310\\lib\\site-packages\\neo4j\\_sync\\work\\result.py:236\u001b[0m, in \u001b[0;36mResult._run\u001b[1;34m(self, query, parameters, db, imp_user, access_mode, bookmarks, notifications_min_severity, notifications_disabled_classifications)\u001b[0m\n\u001b[0;32m    234\u001b[0m \u001b[38;5;28mself\u001b[39m\u001b[38;5;241m.\u001b[39m_pull()\n\u001b[0;32m    235\u001b[0m \u001b[38;5;28mself\u001b[39m\u001b[38;5;241m.\u001b[39m_connection\u001b[38;5;241m.\u001b[39msend_all()\n\u001b[1;32m--> 236\u001b[0m \u001b[38;5;28;43mself\u001b[39;49m\u001b[38;5;241;43m.\u001b[39;49m\u001b[43m_attach\u001b[49m\u001b[43m(\u001b[49m\u001b[43m)\u001b[49m\n",
      "File \u001b[1;32mc:\\Users\\Tanaz\\AppData\\Local\\Programs\\Python\\Python310\\lib\\site-packages\\neo4j\\_sync\\work\\result.py:430\u001b[0m, in \u001b[0;36mResult._attach\u001b[1;34m(self)\u001b[0m\n\u001b[0;32m    428\u001b[0m \u001b[38;5;28;01mif\u001b[39;00m \u001b[38;5;28mself\u001b[39m\u001b[38;5;241m.\u001b[39m_exhausted \u001b[38;5;129;01mis\u001b[39;00m \u001b[38;5;28;01mFalse\u001b[39;00m:\n\u001b[0;32m    429\u001b[0m     \u001b[38;5;28;01mwhile\u001b[39;00m \u001b[38;5;28mself\u001b[39m\u001b[38;5;241m.\u001b[39m_attached \u001b[38;5;129;01mis\u001b[39;00m \u001b[38;5;28;01mFalse\u001b[39;00m:\n\u001b[1;32m--> 430\u001b[0m         \u001b[38;5;28;43mself\u001b[39;49m\u001b[38;5;241;43m.\u001b[39;49m\u001b[43m_connection\u001b[49m\u001b[38;5;241;43m.\u001b[39;49m\u001b[43mfetch_message\u001b[49m\u001b[43m(\u001b[49m\u001b[43m)\u001b[49m\n",
      "File \u001b[1;32mc:\\Users\\Tanaz\\AppData\\Local\\Programs\\Python\\Python310\\lib\\site-packages\\neo4j\\_sync\\io\\_common.py:184\u001b[0m, in \u001b[0;36mConnectionErrorHandler.__getattr__.<locals>.outer.<locals>.inner\u001b[1;34m(*args, **kwargs)\u001b[0m\n\u001b[0;32m    182\u001b[0m \u001b[38;5;28;01mdef\u001b[39;00m \u001b[38;5;21minner\u001b[39m(\u001b[38;5;241m*\u001b[39margs, \u001b[38;5;241m*\u001b[39m\u001b[38;5;241m*\u001b[39mkwargs):\n\u001b[0;32m    183\u001b[0m     \u001b[38;5;28;01mtry\u001b[39;00m:\n\u001b[1;32m--> 184\u001b[0m         func(\u001b[38;5;241m*\u001b[39margs, \u001b[38;5;241m*\u001b[39m\u001b[38;5;241m*\u001b[39mkwargs)\n\u001b[0;32m    185\u001b[0m     \u001b[38;5;28;01mexcept\u001b[39;00m (Neo4jError, ServiceUnavailable, SessionExpired) \u001b[38;5;28;01mas\u001b[39;00m exc:\n\u001b[0;32m    186\u001b[0m         \u001b[38;5;28;01massert\u001b[39;00m \u001b[38;5;129;01mnot\u001b[39;00m asyncio\u001b[38;5;241m.\u001b[39miscoroutinefunction(\u001b[38;5;28mself\u001b[39m\u001b[38;5;241m.\u001b[39m__on_error)\n",
      "File \u001b[1;32mc:\\Users\\Tanaz\\AppData\\Local\\Programs\\Python\\Python310\\lib\\site-packages\\neo4j\\_sync\\io\\_bolt.py:864\u001b[0m, in \u001b[0;36mBolt.fetch_message\u001b[1;34m(self)\u001b[0m\n\u001b[0;32m    860\u001b[0m \u001b[38;5;66;03m# Receive exactly one message\u001b[39;00m\n\u001b[0;32m    861\u001b[0m tag, fields \u001b[38;5;241m=\u001b[39m \u001b[38;5;28mself\u001b[39m\u001b[38;5;241m.\u001b[39minbox\u001b[38;5;241m.\u001b[39mpop(\n\u001b[0;32m    862\u001b[0m     hydration_hooks\u001b[38;5;241m=\u001b[39m\u001b[38;5;28mself\u001b[39m\u001b[38;5;241m.\u001b[39mresponses[\u001b[38;5;241m0\u001b[39m]\u001b[38;5;241m.\u001b[39mhydration_hooks\n\u001b[0;32m    863\u001b[0m )\n\u001b[1;32m--> 864\u001b[0m res \u001b[38;5;241m=\u001b[39m \u001b[38;5;28;43mself\u001b[39;49m\u001b[38;5;241;43m.\u001b[39;49m\u001b[43m_process_message\u001b[49m\u001b[43m(\u001b[49m\u001b[43mtag\u001b[49m\u001b[43m,\u001b[49m\u001b[43m \u001b[49m\u001b[43mfields\u001b[49m\u001b[43m)\u001b[49m\n\u001b[0;32m    865\u001b[0m \u001b[38;5;28mself\u001b[39m\u001b[38;5;241m.\u001b[39midle_since \u001b[38;5;241m=\u001b[39m monotonic()\n\u001b[0;32m    866\u001b[0m \u001b[38;5;28;01mreturn\u001b[39;00m res\n",
      "File \u001b[1;32mc:\\Users\\Tanaz\\AppData\\Local\\Programs\\Python\\Python310\\lib\\site-packages\\neo4j\\_sync\\io\\_bolt5.py:500\u001b[0m, in \u001b[0;36mBolt5x0._process_message\u001b[1;34m(self, tag, fields)\u001b[0m\n\u001b[0;32m    498\u001b[0m \u001b[38;5;28mself\u001b[39m\u001b[38;5;241m.\u001b[39m_server_state_manager\u001b[38;5;241m.\u001b[39mstate \u001b[38;5;241m=\u001b[39m \u001b[38;5;28mself\u001b[39m\u001b[38;5;241m.\u001b[39mbolt_states\u001b[38;5;241m.\u001b[39mFAILED\n\u001b[0;32m    499\u001b[0m \u001b[38;5;28;01mtry\u001b[39;00m:\n\u001b[1;32m--> 500\u001b[0m     \u001b[43mresponse\u001b[49m\u001b[38;5;241;43m.\u001b[39;49m\u001b[43mon_failure\u001b[49m\u001b[43m(\u001b[49m\u001b[43msummary_metadata\u001b[49m\u001b[43m \u001b[49m\u001b[38;5;129;43;01mor\u001b[39;49;00m\u001b[43m \u001b[49m\u001b[43m{\u001b[49m\u001b[43m}\u001b[49m\u001b[43m)\u001b[49m\n\u001b[0;32m    501\u001b[0m \u001b[38;5;28;01mexcept\u001b[39;00m (ServiceUnavailable, DatabaseUnavailable):\n\u001b[0;32m    502\u001b[0m     \u001b[38;5;28;01mif\u001b[39;00m \u001b[38;5;28mself\u001b[39m\u001b[38;5;241m.\u001b[39mpool:\n",
      "File \u001b[1;32mc:\\Users\\Tanaz\\AppData\\Local\\Programs\\Python\\Python310\\lib\\site-packages\\neo4j\\_sync\\io\\_common.py:254\u001b[0m, in \u001b[0;36mResponse.on_failure\u001b[1;34m(self, metadata)\u001b[0m\n\u001b[0;32m    252\u001b[0m handler \u001b[38;5;241m=\u001b[39m \u001b[38;5;28mself\u001b[39m\u001b[38;5;241m.\u001b[39mhandlers\u001b[38;5;241m.\u001b[39mget(\u001b[38;5;124m\"\u001b[39m\u001b[38;5;124mon_summary\u001b[39m\u001b[38;5;124m\"\u001b[39m)\n\u001b[0;32m    253\u001b[0m Util\u001b[38;5;241m.\u001b[39mcallback(handler)\n\u001b[1;32m--> 254\u001b[0m \u001b[38;5;28;01mraise\u001b[39;00m \u001b[38;5;28mself\u001b[39m\u001b[38;5;241m.\u001b[39m_hydrate_error(metadata)\n",
      "\u001b[1;31mClientError\u001b[0m: {code: Neo.ClientError.Procedure.ProcedureNotFound} {message: There is no procedure with the name `gds.dbscan.write` registered for this database instance. Please ensure you've spelled the procedure name correctly and that the procedure is properly deployed.}"
     ]
    }
   ],
   "source": [
    "cluster_customers()"
   ]
  }
 ],
 "metadata": {
  "kernelspec": {
   "display_name": "Python 3",
   "language": "python",
   "name": "python3"
  },
  "language_info": {
   "codemirror_mode": {
    "name": "ipython",
    "version": 3
   },
   "file_extension": ".py",
   "mimetype": "text/x-python",
   "name": "python",
   "nbconvert_exporter": "python",
   "pygments_lexer": "ipython3",
   "version": "3.10.11"
  }
 },
 "nbformat": 4,
 "nbformat_minor": 2
}
