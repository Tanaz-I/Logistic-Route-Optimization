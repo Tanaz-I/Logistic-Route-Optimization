{
 "cells": [
  {
   "cell_type": "code",
   "execution_count": 39,
   "metadata": {},
   "outputs": [],
   "source": [
    "from neo4j import GraphDatabase\n",
    "import openrouteservice\n",
    "import pandas as pd"
   ]
  },
  {
   "cell_type": "code",
   "execution_count": 40,
   "metadata": {},
   "outputs": [],
   "source": [
    "URI = \"bolt://localhost:7687\"  \n",
    "USERNAME = \"neo4j\"  \n",
    "PASSWORD = \"Tanazi369\"  \n",
    "DATABASE = \"neo4j\" \n",
    "\n"
   ]
  },
  {
   "cell_type": "code",
   "execution_count": 2,
   "metadata": {},
   "outputs": [],
   "source": [
    "API_KEY = \"5b3ce3597851110001cf6248b2b74b27a89f4836aa6790441684f9ea\"\n",
    "client = openrouteservice.Client(key=API_KEY)"
   ]
  },
  {
   "cell_type": "code",
   "execution_count": 41,
   "metadata": {},
   "outputs": [],
   "source": [
    "driver = GraphDatabase.driver(URI, auth=(USERNAME, PASSWORD))\n",
    "\n",
    "csv_files = {\n",
    "    \"Vehicle\": r\"dataset/vehicle_updated.csv\",\n",
    "    \"Warehouse\": r\"dataset/warehouse_updated.csv\",\n",
    "    \"Customer\": r\"dataset/customer_updated.csv\",\n",
    "    \"Order\": r\"dataset/order.csv\"\n",
    "}\n"
   ]
  },
  {
   "cell_type": "code",
   "execution_count": 6,
   "metadata": {},
   "outputs": [],
   "source": [
    "def create_nodes(tx, label, properties):\n",
    "        \n",
    "    if \"Latitude\" in properties and \"Longitude\" in properties:\n",
    "        lat, lon = properties.pop(\"Latitude\"), properties.pop(\"Longitude\")\n",
    "        query = f\"\"\"\n",
    "        CREATE (n:{label} {{ {', '.join(f'{key}: ${key}' for key in properties.keys())}, location: point({{latitude: $lat, longitude: $lon}}) }})\n",
    "        \"\"\"\n",
    "        properties[\"lat\"] = lat\n",
    "        properties[\"lon\"] = lon\n",
    "   \n",
    "    else:\n",
    "        query = f\"\"\"\n",
    "        CREATE (n:{label} {{ {', '.join(f'{key}: ${key}' for key in properties.keys())} }})\n",
    "        \"\"\"\n",
    "    tx.run(query, **properties)\n",
    "\n",
    "\n",
    "def load_to_neo4j():\n",
    "    with driver.session(database=DATABASE) as session:\n",
    "        for label, file_path in csv_files.items():\n",
    "            df = pd.read_csv(file_path)            \n",
    "            for _, row in df.iterrows():\n",
    "                properties = {col: row[col] for col in df.columns if pd.notna(row[col])}  \n",
    "                \n",
    "                if label==\"Order\":\n",
    "                    properties = {key: value for key, value in properties.items() if key not in [\"Customer_ID\", \"Warehouse_ID\"]}      \n",
    "\n",
    "                session.execute_write(create_nodes, label, properties)\n",
    "\n",
    "            print(f\"Nodes for {label} created successfully!\")\n"
   ]
  },
  {
   "cell_type": "code",
   "execution_count": 7,
   "metadata": {},
   "outputs": [],
   "source": [
    "def relation_from_orders(tx, order_id, customer_id, warehouse_id):\n",
    "    query = \"\"\"\n",
    "    MATCH (o:Order {Order_ID: $order_id})\n",
    "    MATCH (c:Customer {Customer_ID: $customer_id})\n",
    "    MATCH (w:Warehouse {Warehouse_ID: $warehouse_id})\n",
    "    MERGE (o)-[:PLACED_BY]->(c)\n",
    "    MERGE (o)-[:SHIPPED_FROM]->(w)\n",
    "    \"\"\"\n",
    "    tx.run(query, order_id=order_id, customer_id=customer_id, warehouse_id=warehouse_id)\n"
   ]
  },
  {
   "cell_type": "code",
   "execution_count": 8,
   "metadata": {},
   "outputs": [],
   "source": [
    "def connect_orders(file_path):\n",
    "    df = pd.read_csv(file_path)\n",
    "        \n",
    "    with driver.session(database=DATABASE) as session:\n",
    "        for _, row in df.iterrows():\n",
    "            order_id = row[\"Order_ID\"]\n",
    "            customer_id = row[\"Customer_ID\"]\n",
    "            warehouse_id = row[\"Warehouse_ID\"]\n",
    "            session.execute_write(relation_from_orders, order_id, customer_id, warehouse_id)\n",
    "\n",
    "        print(\"Orders are connected with respective warehouse and customer!\")"
   ]
  },
  {
   "cell_type": "code",
   "execution_count": 9,
   "metadata": {},
   "outputs": [],
   "source": [
    "def route_between_two_points(coords):\n",
    "    route = client.directions(coords, profile='driving-car', format='json')\n",
    "    distance = route[\"routes\"][0][\"summary\"][\"distance\"]\n",
    "    duration = route[\"routes\"][0][\"summary\"][\"duration\"]\n",
    "    return distance,duration\n",
    "\n",
    "    "
   ]
  },
  {
   "cell_type": "code",
   "execution_count": 10,
   "metadata": {},
   "outputs": [],
   "source": [
    "def route_relationship(tx, label1, id1, label2, id2, rel_type, properties):    \n",
    "   \n",
    "        properties_str = \", \".join(f\"{key}: ${key}\" for key in properties.keys()) if properties else \"\"     \n",
    "        query = f\"\"\"\n",
    "            MATCH (a:{label1} {{{label1}_ID: $id1}}), (b:{label2} {{{label2}_ID: $id2}})\n",
    "            MERGE (a)-[r:{rel_type} {{ {properties_str} }}]->(b)\n",
    "            \"\"\"\n",
    "        params = {\"id1\": id1, \"id2\": id2}    \n",
    "        if properties:\n",
    "            params.update(properties)\n",
    "        tx.run(query, **params)\n"
   ]
  },
  {
   "cell_type": "code",
   "execution_count": 11,
   "metadata": {},
   "outputs": [],
   "source": [
    "def generate_routes():\n",
    "    \n",
    "    with driver.session(database=DATABASE) as session:\n",
    "        query = \"\"\"\n",
    "        MATCH (o:Order)-[:SHIPPED_FROM]->(w:Warehouse), (o)-[:PLACED_BY]->(c:Customer)\n",
    "        RETURN o.Order_ID AS order_id, w.Warehouse_ID AS warehouse_id, w.location AS warehouse_location,\n",
    "               c.Customer_ID AS customer_id, c.location AS customer_location\n",
    "        \"\"\"\n",
    "        \n",
    "        orders = session.execute_read(lambda tx: \n",
    "            [{\"order_id\": record[\"order_id\"], \n",
    "              \"warehouse_id\": record[\"warehouse_id\"], \n",
    "              \"warehouse_location\": record[\"warehouse_location\"], \n",
    "              \"customer_id\": record[\"customer_id\"], \n",
    "              \"customer_location\": record[\"customer_location\"]}\n",
    "             for record in tx.run(query)]\n",
    "        )\n",
    "\n",
    "        failed_connections=[]\n",
    "        \n",
    "        for order in orders:\n",
    "            warehouse_location = order[\"warehouse_location\"]\n",
    "            customer_location = order[\"customer_location\"]\n",
    "            warehouse_id=order[\"warehouse_id\"]\n",
    "            customer_id=order[\"customer_id\"]\n",
    "            \n",
    "            warehouse_coords = (warehouse_location.x, warehouse_location.y)  \n",
    "            customer_coords = (customer_location.x, customer_location.y)  \n",
    "            coords = [warehouse_coords, customer_coords]           \n",
    "                \n",
    "            try:\n",
    "                distance,duration=route_between_two_points(coords)\n",
    "                distance_km = round(distance / 1000, 4)  \n",
    "                duration_hr = round(duration / 3600, 4)\n",
    "                session.execute_write(route_relationship, \"Warehouse\",warehouse_id,\"Customer\", customer_id,\"DELIVERS_TO\",{\"distance\": distance_km, \"duration\": duration_hr})\n",
    "                print(f\"Connected Warehouse {warehouse_id} -> Customer {customer_id} [Distance: {distance_km}km, Duration: {duration_hr}hr]\")\n",
    "            \n",
    "            except Exception as e:\n",
    "                print(f\"Failed to connect {warehouse_id} -> {customer_id}: {str(e)}\")\n",
    "                failed_connections.append({\"warehouse_id\": warehouse_id, \"customer_id\": customer_id})\n",
    "            \n",
    "        \n",
    "        print()        \n",
    "        print(failed_connections)\n",
    "\n"
   ]
  },
  {
   "cell_type": "code",
   "execution_count": 12,
   "metadata": {},
   "outputs": [],
   "source": [
    "def assign_vehicles_to_nearest_warehouse():\n",
    "    with driver.session(database=DATABASE) as session:\n",
    "        \n",
    "        vehicles = session.execute_read(lambda tx: [\n",
    "            {\"vehicle_id\": record[\"vehicle_id\"], \"location\": record[\"location\"]}\n",
    "            for record in tx.run(\"MATCH (v:Vehicle) RETURN v.Vehicle_ID AS vehicle_id, v.location AS location\")\n",
    "        ])\n",
    "\n",
    "        warehouses = session.execute_read(lambda tx: [\n",
    "            {\"warehouse_id\": record[\"warehouse_id\"], \"location\": record[\"location\"]}\n",
    "            for record in tx.run(\"MATCH (w:Warehouse) RETURN w.Warehouse_ID AS warehouse_id, w.location AS location\")\n",
    "        ])\n",
    "\n",
    "        for vehicle in vehicles:\n",
    "            v_loc = vehicle[\"location\"]\n",
    "            v_coords = (v_loc.x, v_loc.y)\n",
    "\n",
    "            min_distance = float(\"inf\")\n",
    "            closest_warehouse = None\n",
    "            duration_for_closest = None\n",
    "\n",
    "            for warehouse in warehouses:\n",
    "                w_loc = warehouse[\"location\"]\n",
    "                w_coords = (w_loc.x, w_loc.y)\n",
    "\n",
    "                try:\n",
    "                    distance, duration = route_between_two_points([v_coords, w_coords])\n",
    "                    if distance < min_distance:\n",
    "                        min_distance = distance\n",
    "                        duration_for_closest = duration\n",
    "                        closest_warehouse = warehouse\n",
    "                except:\n",
    "                    continue\n",
    "\n",
    "            if closest_warehouse:\n",
    "                warehouse_id = closest_warehouse[\"warehouse_id\"]\n",
    "                vehicle_id = vehicle[\"vehicle_id\"]\n",
    "                distance_km = round(min_distance / 1000, 2)\n",
    "                duration_hr = round(duration_for_closest / 3600, 2)  \n",
    "\n",
    "                def create_route(tx):\n",
    "                    query = \"\"\"\n",
    "                    MATCH (v:Vehicle {Vehicle_ID: $vehicle_id})\n",
    "                    MATCH (w:Warehouse {Warehouse_ID: $warehouse_id})\n",
    "                    MERGE (v)-[r:ROUTE_TO]->(w)\n",
    "                    SET r.vehicle = $vehicle_id,\n",
    "                        r.order = 1,\n",
    "                        r.distance = $distance_km,\n",
    "                        r.duration = $duration_hr\n",
    "                    \"\"\"\n",
    "                    tx.run(query, vehicle_id=vehicle_id, warehouse_id=warehouse_id, distance_km=distance_km, duration_hr=duration_hr)\n",
    "\n",
    "                session.execute_write(create_route)\n",
    "                print(f\"Vehicle {vehicle_id} routed to Warehouse {warehouse_id} [Distance: {distance_km} km, Duration: {duration_hr} hr]\")\n",
    "\n",
    "\n"
   ]
  },
  {
   "cell_type": "code",
   "execution_count": 34,
   "metadata": {},
   "outputs": [],
   "source": [
    "def create_projection(distance_threshold_km=20):\n",
    "    with driver.session(database=DATABASE) as session:\n",
    "        query = \"\"\"\n",
    "        CALL gds.graph.project.cypher(\n",
    "            'localDeliveryGraph',\n",
    "            $nodeQuery,\n",
    "            $relQuery,\n",
    "            { parameters: { threshold: $threshold } }\n",
    "        )\n",
    "        YIELD graphName, nodeCount, relationshipCount, projectMillis\n",
    "        RETURN graphName, nodeCount, relationshipCount, projectMillis\n",
    "        \"\"\"\n",
    "        \n",
    "        node_query = \"\"\"\n",
    "        MATCH (n) \n",
    "        WHERE n:Warehouse OR n:Customer \n",
    "        RETURN id(n) AS id, labels(n) AS labels\n",
    "        \"\"\"\n",
    "        \n",
    "        rel_query = \"\"\"\n",
    "        MATCH (w:Warehouse)-[r:DELIVERS_TO]->(c:Customer) \n",
    "        WHERE r.distance <= $threshold \n",
    "        RETURN id(w) AS source, id(c) AS target, r.distance AS distance\n",
    "        \"\"\"\n",
    "        \n",
    "        result = session.run(query, \n",
    "                             nodeQuery=node_query,\n",
    "                             relQuery=rel_query,\n",
    "                             threshold=distance_threshold_km)\n",
    "        stats = result.single()\n",
    "        \n",
    "        print(f\"Subgraph 'localDeliveryGraph' created (distance ≤ {distance_threshold_km}km)\")\n",
    "        print(f\"Nodes: {stats['nodeCount']}, Relationships: {stats['relationshipCount']}\")\n",
    "        return stats\n"
   ]
  },
  {
   "cell_type": "code",
   "execution_count": 36,
   "metadata": {},
   "outputs": [],
   "source": [
    "def apply_wcc_clustering():\n",
    "    with driver.session(database=DATABASE) as session:\n",
    "       \n",
    "        result = session.run(\"\"\"\n",
    "            CALL gds.wcc.write('localDeliveryGraph', {\n",
    "                writeProperty: 'local_cluster'\n",
    "            })\n",
    "            YIELD nodePropertiesWritten, componentCount\n",
    "        \"\"\")\n",
    "        summary = result.single()\n",
    "        print(f\"Clustering done. Wrote {summary['nodePropertiesWritten']} node properties into 'local_cluster'.\")\n",
    "        print(f\"Found {summary['componentCount']} clusters.\")\n",
    "\n",
    "       \n",
    "        session.run(\"CALL gds.graph.drop('localDeliveryGraph')\")\n",
    "        print(\"In-memory graph 'localDeliveryGraph' dropped.\")\n"
   ]
  },
  {
   "cell_type": "code",
   "execution_count": 53,
   "metadata": {},
   "outputs": [],
   "source": [
    "def get_cluster_node_count():\n",
    "    query = \"\"\"\n",
    "    MATCH (n)-[r:DELIVERS_TO]->(m)\n",
    "    WHERE n.local_cluster = m.local_cluster\n",
    "    RETURN n.local_cluster AS clusterId, collect(n) AS nodes\n",
    "    \"\"\"\n",
    "    \n",
    "    \n",
    "    with driver.session() as session:\n",
    "        result = session.run(query)\n",
    "        \n",
    "       \n",
    "        for record in result:\n",
    "            cluster_id = record[\"clusterId\"]\n",
    "            nodes = record[\"nodes\"]\n",
    "            \n",
    "            \n",
    "            print(f\"Cluster ID: {cluster_id}\")\n",
    "            for node in nodes:\n",
    "                print(f\"  Node: {node}\")\n",
    "            print(\"-\" * 50)"
   ]
  },
  {
   "cell_type": "code",
   "execution_count": 54,
   "metadata": {},
   "outputs": [],
   "source": [
    "def local_cluster():\n",
    "    \n",
    "    \n",
    "    with driver.session(database=DATABASE) as session:\n",
    "        \n",
    "        query = \"\"\"\n",
    "    MATCH (c:Customer)\n",
    "    RETURN c.Customer_ID AS customer_id, \n",
    "           c.location AS location, \n",
    "           c.local_cluster AS cluster_id\n",
    "\"\"\"\n",
    "        customers = session.execute_read(lambda tx: \n",
    "        [ \n",
    "            {\n",
    "            \"customer_id\": record[\"customer_id\"],\n",
    "            \"location\": record[\"location\"],\n",
    "            \"cluster_id\": record[\"cluster_id\"]\n",
    "            }\n",
    "            for record in tx.run(query)\n",
    "        ]\n",
    "        )\n",
    "\n",
    "        from collections import defaultdict\n",
    "\n",
    "        # Group customers by cluster\n",
    "        clusters = defaultdict(list)\n",
    "        for customer in customers:\n",
    "            clusters[customer[\"cluster_id\"]].append(customer)\n",
    "\n",
    "        failed_connections = []\n",
    "\n",
    "        for cluster_id, cluster_customers in clusters.items():\n",
    "            for i in range(len(cluster_customers)):\n",
    "                for j in range(i + 1, len(cluster_customers)):\n",
    "                    cust1 = cluster_customers[i]\n",
    "                    cust2 = cluster_customers[j]\n",
    "\n",
    "                    coords1 = (cust1[\"location\"].x, cust1[\"location\"].y)\n",
    "                    coords2 = (cust2[\"location\"].x, cust2[\"location\"].y)\n",
    "                    coords = [coords1, coords2]\n",
    "\n",
    "                    try:\n",
    "                        distance, duration = route_between_two_points(coords)\n",
    "                        distance_km = round(distance / 1000, 4)\n",
    "                        duration_hr = round(duration / 3600, 4)\n",
    "\n",
    "                        # Create relationship in both directions (optional: remove if unidirectional is fine)\n",
    "                        session.execute_write(\n",
    "                            route_relationship, \"Customer\", cust1[\"customer_id\"], \"Customer\", cust2[\"customer_id\"], \n",
    "                            \"IN_CLUSTER\", {\"distance\": distance_km, \"duration\": duration_hr}\n",
    "                        )\n",
    "                        session.execute_write(\n",
    "                            route_relationship, \"Customer\", cust2[\"customer_id\"], \"Customer\", cust1[\"customer_id\"], \n",
    "                            \"IN_CLUSTER\", {\"distance\": distance_km, \"duration\": duration_hr}\n",
    "                        )\n",
    "\n",
    "                        print(f\"Connected C{cust1['customer_id']} <-> C{cust2['customer_id']} [Cluster {cluster_id} | Distance: {distance_km}km | Duration: {duration_hr}hr]\")\n",
    "\n",
    "                    except Exception as e:\n",
    "                        print(f\"Failed to connect C{cust1['customer_id']} <-> C{cust2['customer_id']}: {str(e)}\")\n",
    "                        failed_connections.append({\n",
    "                            \"customer1\": cust1[\"customer_id\"],\n",
    "                            \"customer2\": cust2[\"customer_id\"]\n",
    "                        })\n",
    "                        \n",
    "        print()\n",
    "        print(failed_connections)\n"
   ]
  },
  {
   "cell_type": "code",
   "execution_count": 55,
   "metadata": {},
   "outputs": [
    {
     "name": "stdout",
     "output_type": "stream",
     "text": [
      "Failed to connect CC003 <-> CC021: 'distance'\n",
      "Connected CC009 <-> CC029 [Cluster 4 | Distance: 5.4674km | Duration: 0.1223hr]\n",
      "Connected CC009 <-> CC030 [Cluster 4 | Distance: 8.4521km | Duration: 0.1542hr]\n",
      "Connected CC029 <-> CC030 [Cluster 4 | Distance: 3.0628km | Duration: 0.0663hr]\n",
      "\n",
      "[{'customer1': 'C003', 'customer2': 'C021'}]\n"
     ]
    }
   ],
   "source": [
    "local_cluster()"
   ]
  },
  {
   "cell_type": "code",
   "execution_count": 22,
   "metadata": {},
   "outputs": [
    {
     "name": "stdout",
     "output_type": "stream",
     "text": [
      "Nodes for Vehicle created successfully!\n",
      "Nodes for Warehouse created successfully!\n",
      "Nodes for Customer created successfully!\n",
      "Nodes for Order created successfully!\n"
     ]
    }
   ],
   "source": [
    "load_to_neo4j()"
   ]
  },
  {
   "cell_type": "code",
   "execution_count": 23,
   "metadata": {},
   "outputs": [
    {
     "name": "stdout",
     "output_type": "stream",
     "text": [
      "Orders are connected with respective warehouse and customer!\n"
     ]
    }
   ],
   "source": [
    "connect_orders(csv_files[\"Order\"])"
   ]
  },
  {
   "cell_type": "code",
   "execution_count": 24,
   "metadata": {},
   "outputs": [
    {
     "name": "stdout",
     "output_type": "stream",
     "text": [
      "Connected Warehouse W001 -> Customer C006 [Distance: 331.8729km, Duration: 4.4134hr]\n",
      "Connected Warehouse W001 -> Customer C007 [Distance: 693.6938km, Duration: 9.3331hr]\n",
      "Connected Warehouse W001 -> Customer C012 [Distance: 693.6938km, Duration: 9.3331hr]\n",
      "Connected Warehouse W001 -> Customer C013 [Distance: 647.4129km, Duration: 8.2888hr]\n",
      "Connected Warehouse W001 -> Customer C023 [Distance: 8.6937km, Duration: 0.2348hr]\n",
      "Connected Warehouse W001 -> Customer C024 [Distance: 649.9511km, Duration: 8.407hr]\n",
      "Connected Warehouse W001 -> Customer C025 [Distance: 667.1664km, Duration: 8.8581hr]\n",
      "Connected Warehouse W002 -> Customer C001 [Distance: 1.532km, Duration: 0.0517hr]\n",
      "Connected Warehouse W002 -> Customer C004 [Distance: 575.6503km, Duration: 7.5724hr]\n",
      "Connected Warehouse W002 -> Customer C008 [Distance: 570.5281km, Duration: 7.5204hr]\n",
      "Connected Warehouse W002 -> Customer C018 [Distance: 327.6005km, Duration: 4.3245hr]\n",
      "Connected Warehouse W002 -> Customer C019 [Distance: 347.4354km, Duration: 4.8326hr]\n",
      "Connected Warehouse W002 -> Customer C020 [Distance: 322.0381km, Duration: 4.5584hr]\n",
      "Connected Warehouse W002 -> Customer C022 [Distance: 574.2312km, Duration: 7.5335hr]\n",
      "Connected Warehouse W002 -> Customer C027 [Distance: 324.6567km, Duration: 4.2436hr]\n",
      "Connected Warehouse W002 -> Customer C028 [Distance: 569.6116km, Duration: 7.4285hr]\n",
      "Connected Warehouse W003 -> Customer C003 [Distance: 7.789km, Duration: 0.2352hr]\n",
      "Connected Warehouse W003 -> Customer C016 [Distance: 656.3975km, Duration: 8.7558hr]\n",
      "Connected Warehouse W003 -> Customer C021 [Distance: 7.789km, Duration: 0.2352hr]\n",
      "Connected Warehouse W004 -> Customer C002 [Distance: 641.1583km, Duration: 8.1059hr]\n",
      "Connected Warehouse W004 -> Customer C005 [Distance: 646.4304km, Duration: 8.2354hr]\n"
     ]
    },
    {
     "name": "stderr",
     "output_type": "stream",
     "text": [
      "c:\\Users\\Tanaz\\AppData\\Local\\Programs\\Python\\Python310\\lib\\site-packages\\openrouteservice\\client.py:211: UserWarning: Rate limit exceeded. Retrying for the 1st time.\n",
      "  warnings.warn('Rate limit exceeded. Retrying for the {0}{1} time.'.format(retry_counter + 1,\n"
     ]
    },
    {
     "name": "stdout",
     "output_type": "stream",
     "text": [
      "Connected Warehouse W004 -> Customer C010 [Distance: 572.6078km, Duration: 7.5186hr]\n"
     ]
    },
    {
     "name": "stderr",
     "output_type": "stream",
     "text": [
      "c:\\Users\\Tanaz\\AppData\\Local\\Programs\\Python\\Python310\\lib\\site-packages\\openrouteservice\\client.py:211: UserWarning: Rate limit exceeded. Retrying for the 2nd time.\n",
      "  warnings.warn('Rate limit exceeded. Retrying for the {0}{1} time.'.format(retry_counter + 1,\n"
     ]
    },
    {
     "name": "stdout",
     "output_type": "stream",
     "text": [
      "Connected Warehouse W004 -> Customer C026 [Distance: 576.595km, Duration: 7.6076hr]\n",
      "Connected Warehouse W005 -> Customer C009 [Distance: 4.9447km, Duration: 0.096hr]\n",
      "Connected Warehouse W005 -> Customer C011 [Distance: 491.548km, Duration: 6.1771hr]\n",
      "Connected Warehouse W005 -> Customer C014 [Distance: 344.4552km, Duration: 4.404hr]\n"
     ]
    },
    {
     "name": "stderr",
     "output_type": "stream",
     "text": [
      "c:\\Users\\Tanaz\\AppData\\Local\\Programs\\Python\\Python310\\lib\\site-packages\\openrouteservice\\client.py:211: UserWarning: Rate limit exceeded. Retrying for the 3rd time.\n",
      "  warnings.warn('Rate limit exceeded. Retrying for the {0}{1} time.'.format(retry_counter + 1,\n",
      "c:\\Users\\Tanaz\\AppData\\Local\\Programs\\Python\\Python310\\lib\\site-packages\\openrouteservice\\client.py:211: UserWarning: Rate limit exceeded. Retrying for the 4th time.\n",
      "  warnings.warn('Rate limit exceeded. Retrying for the {0}{1} time.'.format(retry_counter + 1,\n",
      "c:\\Users\\Tanaz\\AppData\\Local\\Programs\\Python\\Python310\\lib\\site-packages\\openrouteservice\\client.py:211: UserWarning: Rate limit exceeded. Retrying for the 5th time.\n",
      "  warnings.warn('Rate limit exceeded. Retrying for the {0}{1} time.'.format(retry_counter + 1,\n",
      "c:\\Users\\Tanaz\\AppData\\Local\\Programs\\Python\\Python310\\lib\\site-packages\\openrouteservice\\client.py:211: UserWarning: Rate limit exceeded. Retrying for the 6th time.\n",
      "  warnings.warn('Rate limit exceeded. Retrying for the {0}{1} time.'.format(retry_counter + 1,\n",
      "c:\\Users\\Tanaz\\AppData\\Local\\Programs\\Python\\Python310\\lib\\site-packages\\openrouteservice\\client.py:211: UserWarning: Rate limit exceeded. Retrying for the 7th time.\n",
      "  warnings.warn('Rate limit exceeded. Retrying for the {0}{1} time.'.format(retry_counter + 1,\n",
      "c:\\Users\\Tanaz\\AppData\\Local\\Programs\\Python\\Python310\\lib\\site-packages\\openrouteservice\\client.py:211: UserWarning: Rate limit exceeded. Retrying for the 8th time.\n",
      "  warnings.warn('Rate limit exceeded. Retrying for the {0}{1} time.'.format(retry_counter + 1,\n"
     ]
    },
    {
     "name": "stdout",
     "output_type": "stream",
     "text": [
      "Connected Warehouse W005 -> Customer C015 [Distance: 241.3347km, Duration: 3.8482hr]\n",
      "Connected Warehouse W005 -> Customer C017 [Distance: 333.8207km, Duration: 4.224hr]\n",
      "Connected Warehouse W005 -> Customer C029 [Distance: 3.2795km, Duration: 0.0633hr]\n",
      "Connected Warehouse W005 -> Customer C030 [Distance: 4.7868km, Duration: 0.074hr]\n",
      "\n",
      "[]\n"
     ]
    }
   ],
   "source": [
    "generate_routes()"
   ]
  },
  {
   "cell_type": "code",
   "execution_count": 25,
   "metadata": {},
   "outputs": [
    {
     "name": "stdout",
     "output_type": "stream",
     "text": [
      "Vehicle V001 routed to Warehouse W005 [Distance: 3.53 km, Duration: 0.08 hr]\n",
      "Vehicle V002 routed to Warehouse W001 [Distance: 8.27 km, Duration: 0.22 hr]\n",
      "Vehicle V003 routed to Warehouse W002 [Distance: 3.23 km, Duration: 0.1 hr]\n",
      "Vehicle V004 routed to Warehouse W003 [Distance: 7.92 km, Duration: 0.24 hr]\n",
      "Vehicle V005 routed to Warehouse W004 [Distance: 14.02 km, Duration: 0.35 hr]\n"
     ]
    }
   ],
   "source": [
    "assign_vehicles_to_nearest_warehouse()"
   ]
  },
  {
   "cell_type": "code",
   "execution_count": null,
   "metadata": {},
   "outputs": [
    {
     "name": "stderr",
     "output_type": "stream",
     "text": [
      "Received notification from DBMS server: {severity: WARNING} {code: Neo.ClientNotification.Statement.FeatureDeprecationWarning} {category: DEPRECATION} {title: This feature is deprecated and will be removed in future versions.} {description: The query used a deprecated procedure. ('gds.graph.project.cypher' has been replaced by 'gds.graph.project Cypher projection as an aggregation function')} {position: line: 2, column: 9, offset: 9} for query: \"\\n        CALL gds.graph.project.cypher(\\n            'localDeliveryGraph',\\n            $nodeQuery,\\n            $relQuery,\\n            { parameters: { threshold: $threshold } }\\n        )\\n        YIELD graphName, nodeCount, relationshipCount, projectMillis\\n        RETURN graphName, nodeCount, relationshipCount, projectMillis\\n        \"\n"
     ]
    },
    {
     "name": "stdout",
     "output_type": "stream",
     "text": [
      "Subgraph 'localDeliveryGraph' created (distance ≤ 20km)\n",
      "Nodes: 35, Relationships: 7\n"
     ]
    },
    {
     "data": {
      "text/plain": [
       "<Record graphName='localDeliveryGraph' nodeCount=35 relationshipCount=7 projectMillis=285>"
      ]
     },
     "metadata": {},
     "output_type": "display_data"
    }
   ],
   "source": [
    "create_projection(distance_threshold_km=20)  \n",
    " "
   ]
  },
  {
   "cell_type": "code",
   "execution_count": null,
   "metadata": {},
   "outputs": [
    {
     "name": "stderr",
     "output_type": "stream",
     "text": [
      "Received notification from DBMS server: {severity: WARNING} {code: Neo.ClientNotification.Statement.FeatureDeprecationWarning} {category: DEPRECATION} {title: This feature is deprecated and will be removed in future versions.} {description: The query used a deprecated field from a procedure. ('schema' returned by 'gds.graph.drop' is deprecated.)} {position: line: 1, column: 1, offset: 0} for query: \"CALL gds.graph.drop('localDeliveryGraph')\"\n"
     ]
    },
    {
     "name": "stdout",
     "output_type": "stream",
     "text": [
      "Clustering done. Wrote 35 node properties into 'local_cluster'.\n",
      "Found 28 clusters.\n",
      "In-memory graph 'localDeliveryGraph' dropped.\n"
     ]
    }
   ],
   "source": [
    "apply_wcc_clustering()"
   ]
  },
  {
   "cell_type": "code",
   "execution_count": null,
   "metadata": {},
   "outputs": [
    {
     "name": "stdout",
     "output_type": "stream",
     "text": [
      "Cluster ID: 0\n",
      "  Node: <Node element_id='4:61291bbc-605c-46a6-85b6-16fe130a930e:145' labels=frozenset({'Warehouse'}) properties={'Address': 'No. 23, Anna Salai, Chennai, Tamil Nadu, 600002', 'Warehouse_ID': 'W001', 'location': POINT(80.2459951 13.0350576), 'local_cluster': 0, 'Name': 'Chennai Central Hub'}>\n",
      "--------------------------------------------------\n",
      "Cluster ID: 1\n",
      "  Node: <Node element_id='4:61291bbc-605c-46a6-85b6-16fe130a930e:146' labels=frozenset({'Warehouse'}) properties={'Address': '45/1, MG Road, Bengaluru, Karnataka, 560001', 'Warehouse_ID': 'W002', 'location': POINT(77.6046565 12.9759907), 'local_cluster': 1, 'Name': 'Bengaluru Distribution'}>\n",
      "--------------------------------------------------\n",
      "Cluster ID: 2\n",
      "  Node: <Node element_id='4:61291bbc-605c-46a6-85b6-16fe130a930e:147' labels=frozenset({'Warehouse'}) properties={'Address': '12A, InfoPark Road, Kochi, Kerala, 682042', 'Warehouse_ID': 'W003', 'location': POINT(76.293 9.9746), 'local_cluster': 2, 'Name': 'Kochi Logistics Park'}>\n",
      "  Node: <Node element_id='4:61291bbc-605c-46a6-85b6-16fe130a930e:147' labels=frozenset({'Warehouse'}) properties={'Address': '12A, InfoPark Road, Kochi, Kerala, 682042', 'Warehouse_ID': 'W003', 'location': POINT(76.293 9.9746), 'local_cluster': 2, 'Name': 'Kochi Logistics Park'}>\n",
      "--------------------------------------------------\n",
      "Cluster ID: 4\n",
      "  Node: <Node element_id='4:61291bbc-605c-46a6-85b6-16fe130a930e:149' labels=frozenset({'Warehouse'}) properties={'Address': '89, Avinashi Road, Coimbatore, Tamil Nadu, 641018', 'Warehouse_ID': 'W005', 'location': POINT(76.9804364 11.009385), 'local_cluster': 4, 'Name': 'Coimbatore Main Depot'}>\n",
      "  Node: <Node element_id='4:61291bbc-605c-46a6-85b6-16fe130a930e:149' labels=frozenset({'Warehouse'}) properties={'Address': '89, Avinashi Road, Coimbatore, Tamil Nadu, 641018', 'Warehouse_ID': 'W005', 'location': POINT(76.9804364 11.009385), 'local_cluster': 4, 'Name': 'Coimbatore Main Depot'}>\n",
      "  Node: <Node element_id='4:61291bbc-605c-46a6-85b6-16fe130a930e:149' labels=frozenset({'Warehouse'}) properties={'Address': '89, Avinashi Road, Coimbatore, Tamil Nadu, 641018', 'Warehouse_ID': 'W005', 'location': POINT(76.9804364 11.009385), 'local_cluster': 4, 'Name': 'Coimbatore Main Depot'}>\n",
      "--------------------------------------------------\n"
     ]
    }
   ],
   "source": [
    "get_cluster_node_count()"
   ]
  }
 ],
 "metadata": {
  "kernelspec": {
   "display_name": "Python 3",
   "language": "python",
   "name": "python3"
  },
  "language_info": {
   "codemirror_mode": {
    "name": "ipython",
    "version": 3
   },
   "file_extension": ".py",
   "mimetype": "text/x-python",
   "name": "python",
   "nbconvert_exporter": "python",
   "pygments_lexer": "ipython3",
   "version": "3.10.11"
  }
 },
 "nbformat": 4,
 "nbformat_minor": 2
}
