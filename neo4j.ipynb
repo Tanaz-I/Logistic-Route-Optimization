{
 "cells": [
  {
   "cell_type": "code",
   "execution_count": 1,
   "metadata": {},
   "outputs": [],
   "source": [
    "from neo4j import GraphDatabase\n",
    "import openrouteservice\n",
    "import pandas as pd"
   ]
  },
  {
   "cell_type": "code",
   "execution_count": 2,
   "metadata": {},
   "outputs": [],
   "source": [
    "URI = \"bolt://localhost:7687\"  \n",
    "USERNAME = \"neo4j\"  \n",
    "PASSWORD = \"Tanazi369\"  \n",
    "DATABASE = \"neo4j\" \n",
    "\n"
   ]
  },
  {
   "cell_type": "code",
   "execution_count": 3,
   "metadata": {},
   "outputs": [],
   "source": [
    "API_KEY = \"5b3ce3597851110001cf6248b2b74b27a89f4836aa6790441684f9ea\"\n",
    "client = openrouteservice.Client(key=API_KEY)"
   ]
  },
  {
   "cell_type": "code",
   "execution_count": 4,
   "metadata": {},
   "outputs": [],
   "source": [
    "driver = GraphDatabase.driver(URI, auth=(USERNAME, PASSWORD))\n",
    "\n",
    "csv_files = {\n",
    "    \"Vehicle\": r\"dataset/vehicle_updated.csv\",\n",
    "    \"Warehouse\": r\"dataset/warehouse_updated.csv\",\n",
    "    \"Customer\": r\"dataset/customer_updated.csv\",\n",
    "    \"Order\": r\"dataset/order.csv\"\n",
    "}\n"
   ]
  },
  {
   "cell_type": "code",
   "execution_count": 5,
   "metadata": {},
   "outputs": [],
   "source": [
    "def create_nodes(tx, label, properties):\n",
    "        \n",
    "    if \"Latitude\" in properties and \"Longitude\" in properties:\n",
    "        lat, lon = properties.pop(\"Latitude\"), properties.pop(\"Longitude\")\n",
    "        query = f\"\"\"\n",
    "        CREATE (n:{label} {{ {', '.join(f'{key}: ${key}' for key in properties.keys())}, location: point({{latitude: $lat, longitude: $lon}}) }})\n",
    "        \"\"\"\n",
    "        properties[\"lat\"] = lat\n",
    "        properties[\"lon\"] = lon\n",
    "   \n",
    "    else:\n",
    "        query = f\"\"\"\n",
    "        CREATE (n:{label} {{ {', '.join(f'{key}: ${key}' for key in properties.keys())} }})\n",
    "        \"\"\"\n",
    "    tx.run(query, **properties)\n",
    "\n",
    "\n",
    "def load_to_neo4j():\n",
    "    with driver.session(database=DATABASE) as session:\n",
    "        for label, file_path in csv_files.items():\n",
    "            df = pd.read_csv(file_path)            \n",
    "            for _, row in df.iterrows():\n",
    "                properties = {col: row[col] for col in df.columns if pd.notna(row[col])}  \n",
    "                \n",
    "                if label==\"Order\":\n",
    "                    properties = {key: value for key, value in properties.items() if key not in [\"Customer_ID\", \"Warehouse_ID\"]}      \n",
    "\n",
    "                session.execute_write(create_nodes, label, properties)\n",
    "\n",
    "            print(f\"Nodes for {label} created successfully!\")\n"
   ]
  },
  {
   "cell_type": "code",
   "execution_count": 6,
   "metadata": {},
   "outputs": [],
   "source": [
    "def relation_from_orders(tx, order_id, customer_id, warehouse_id):\n",
    "    query = \"\"\"\n",
    "    MATCH (o:Order {Order_ID: $order_id})\n",
    "    MATCH (c:Customer {Customer_ID: $customer_id})\n",
    "    MATCH (w:Warehouse {Warehouse_ID: $warehouse_id})\n",
    "    MERGE (o)-[:PLACED_BY]->(c)\n",
    "    MERGE (o)-[:SHIPPED_FROM]->(w)\n",
    "    \"\"\"\n",
    "    tx.run(query, order_id=order_id, customer_id=customer_id, warehouse_id=warehouse_id)\n"
   ]
  },
  {
   "cell_type": "code",
   "execution_count": 7,
   "metadata": {},
   "outputs": [],
   "source": [
    "def connect_orders(file_path):\n",
    "    df = pd.read_csv(file_path)\n",
    "        \n",
    "    with driver.session(database=DATABASE) as session:\n",
    "        for _, row in df.iterrows():\n",
    "            order_id = row[\"Order_ID\"]\n",
    "            customer_id = row[\"Customer_ID\"]\n",
    "            warehouse_id = row[\"Warehouse_ID\"]\n",
    "            session.execute_write(relation_from_orders, order_id, customer_id, warehouse_id)\n",
    "\n",
    "        print(\"Orders are connected with respective warehouse and customer!\")"
   ]
  },
  {
   "cell_type": "code",
   "execution_count": 8,
   "metadata": {},
   "outputs": [],
   "source": [
    "def route_between_two_points(coords):\n",
    "    route = client.directions(coords, profile='driving-car', format='json')\n",
    "    distance = route[\"routes\"][0][\"summary\"][\"distance\"]\n",
    "    duration = route[\"routes\"][0][\"summary\"][\"duration\"]\n",
    "    return distance,duration\n",
    "\n",
    "    "
   ]
  },
  {
   "cell_type": "code",
   "execution_count": 9,
   "metadata": {},
   "outputs": [],
   "source": [
    "def route_relationship(tx, label1, id1, label2, id2, rel_type, properties):    \n",
    "   \n",
    "        properties_str = \", \".join(f\"{key}: ${key}\" for key in properties.keys()) if properties else \"\"     \n",
    "        query = f\"\"\"\n",
    "            MATCH (a:{label1} {{{label1}_ID: $id1}}), (b:{label2} {{{label2}_ID: $id2}})\n",
    "            MERGE (a)-[r:{rel_type} {{ {properties_str} }}]->(b)\n",
    "            \"\"\"\n",
    "        params = {\"id1\": id1, \"id2\": id2}    \n",
    "        if properties:\n",
    "            params.update(properties)\n",
    "        tx.run(query, **params)\n"
   ]
  },
  {
   "cell_type": "code",
   "execution_count": 12,
   "metadata": {},
   "outputs": [],
   "source": [
    "def generate_routes():\n",
    "    \n",
    "    with driver.session(database=DATABASE) as session:\n",
    "        query = \"\"\"\n",
    "        MATCH (o:Order)-[:SHIPPED_FROM]->(w:Warehouse), (o)-[:PLACED_BY]->(c:Customer)\n",
    "        RETURN o.Order_ID AS order_id, w.Warehouse_ID AS warehouse_id, w.location AS warehouse_location,\n",
    "               c.Customer_ID AS customer_id, c.location AS customer_location\n",
    "        \"\"\"\n",
    "        \n",
    "        orders = session.execute_read(lambda tx: \n",
    "            [{\"order_id\": record[\"order_id\"], \n",
    "              \"warehouse_id\": record[\"warehouse_id\"], \n",
    "              \"warehouse_location\": record[\"warehouse_location\"], \n",
    "              \"customer_id\": record[\"customer_id\"], \n",
    "              \"customer_location\": record[\"customer_location\"]}\n",
    "             for record in tx.run(query)]\n",
    "        )\n",
    "\n",
    "        failed_connections=[]\n",
    "        \n",
    "        for order in orders:\n",
    "            warehouse_location = order[\"warehouse_location\"]\n",
    "            customer_location = order[\"customer_location\"]\n",
    "            warehouse_id=order[\"warehouse_id\"]\n",
    "            customer_id=order[\"customer_id\"]\n",
    "            \n",
    "            warehouse_coords = (warehouse_location.x, warehouse_location.y)  \n",
    "            customer_coords = (customer_location.x, customer_location.y)  \n",
    "            coords = [warehouse_coords, customer_coords]           \n",
    "                \n",
    "            try:\n",
    "                distance,duration=route_between_two_points(coords)\n",
    "                distance_km = round(distance / 1000, 4)  \n",
    "                duration_hr = round(duration / 3600, 4)\n",
    "                session.execute_write(route_relationship, \"Warehouse\",warehouse_id,\"Customer\", customer_id,\"DELIVERS_TO\",{\"distance\": distance_km, \"duration\": duration_hr})\n",
    "                print(f\"Connected Warehouse {warehouse_id} -> Customer {customer_id} [Distance: {distance_km}km, Duration: {duration_hr}hr]\")\n",
    "            \n",
    "            except Exception as e:\n",
    "                print(f\"Failed to connect {warehouse_id} -> {customer_id}: {str(e)}\")\n",
    "                failed_connections.append({\"warehouse_id\": warehouse_id, \"customer_id\": customer_id})\n",
    "            \n",
    "        \n",
    "        print()        \n",
    "        print(failed_connections)\n",
    "\n"
   ]
  },
  {
   "cell_type": "code",
   "execution_count": 22,
   "metadata": {},
   "outputs": [
    {
     "name": "stdout",
     "output_type": "stream",
     "text": [
      "Nodes for Vehicle created successfully!\n",
      "Nodes for Warehouse created successfully!\n",
      "Nodes for Customer created successfully!\n",
      "Nodes for Order created successfully!\n"
     ]
    }
   ],
   "source": [
    "load_to_neo4j()"
   ]
  },
  {
   "cell_type": "code",
   "execution_count": 23,
   "metadata": {},
   "outputs": [
    {
     "name": "stdout",
     "output_type": "stream",
     "text": [
      "Orders are connected with respective warehouse and customer!\n"
     ]
    }
   ],
   "source": [
    "connect_orders(csv_files[\"Order\"])"
   ]
  },
  {
   "cell_type": "code",
   "execution_count": 13,
   "metadata": {},
   "outputs": [
    {
     "name": "stdout",
     "output_type": "stream",
     "text": [
      "Connected Warehouse W001 -> Customer C006 [Distance: 331.873km, Duration: 4.4134hr]\n",
      "Connected Warehouse W001 -> Customer C007 [Distance: 693.6937km, Duration: 9.3331hr]\n",
      "Connected Warehouse W001 -> Customer C012 [Distance: 693.6937km, Duration: 9.3331hr]\n",
      "Connected Warehouse W001 -> Customer C013 [Distance: 647.4129km, Duration: 8.2888hr]\n",
      "Connected Warehouse W001 -> Customer C023 [Distance: 8.6879km, Duration: 0.2382hr]\n",
      "Connected Warehouse W001 -> Customer C024 [Distance: 649.9511km, Duration: 8.407hr]\n",
      "Connected Warehouse W001 -> Customer C025 [Distance: 667.1664km, Duration: 8.8581hr]\n",
      "Connected Warehouse W002 -> Customer C004 [Distance: 575.6511km, Duration: 7.5721hr]\n",
      "Connected Warehouse W002 -> Customer C008 [Distance: 570.2891km, Duration: 7.5086hr]\n",
      "Connected Warehouse W002 -> Customer C018 [Distance: 330.0161km, Duration: 4.3624hr]\n",
      "Connected Warehouse W002 -> Customer C019 [Distance: 347.4257km, Duration: 4.8335hr]\n",
      "Connected Warehouse W002 -> Customer C020 [Distance: 322.0381km, Duration: 4.5584hr]\n",
      "Connected Warehouse W002 -> Customer C022 [Distance: 574.003km, Duration: 7.5308hr]\n",
      "Connected Warehouse W002 -> Customer C027 [Distance: 327.0723km, Duration: 4.2816hr]\n",
      "Connected Warehouse W002 -> Customer C028 [Distance: 569.6124km, Duration: 7.4282hr]\n",
      "Connected Warehouse W002 -> Customer C029 [Distance: 707.2986km, Duration: 9.7076hr]\n",
      "Connected Warehouse W003 -> Customer C003 [Distance: 7.789km, Duration: 0.2352hr]\n",
      "Connected Warehouse W003 -> Customer C009 [Distance: 186.1926km, Duration: 3.0278hr]\n",
      "Connected Warehouse W003 -> Customer C016 [Distance: 656.3975km, Duration: 8.7558hr]\n",
      "Connected Warehouse W003 -> Customer C021 [Distance: 4.0358km, Duration: 0.0971hr]\n",
      "Connected Warehouse W004 -> Customer C002 [Distance: 640.9379km, Duration: 8.0891hr]\n",
      "Connected Warehouse W004 -> Customer C005 [Distance: 648.647km, Duration: 8.24hr]\n",
      "Connected Warehouse W004 -> Customer C010 [Distance: 572.8422km, Duration: 7.5233hr]\n",
      "Connected Warehouse W004 -> Customer C026 [Distance: 576.8284km, Duration: 7.6116hr]\n",
      "Connected Warehouse W005 -> Customer C001 [Distance: 333.0254km, Duration: 4.3534hr]\n",
      "Connected Warehouse W005 -> Customer C011 [Distance: 491.548km, Duration: 6.1771hr]\n",
      "Connected Warehouse W005 -> Customer C014 [Distance: 344.4554km, Duration: 4.404hr]\n",
      "Connected Warehouse W005 -> Customer C015 [Distance: 241.3347km, Duration: 3.8482hr]\n",
      "Connected Warehouse W005 -> Customer C017 [Distance: 333.8202km, Duration: 4.224hr]\n",
      "Connected Warehouse W005 -> Customer C030 [Distance: 4.7868km, Duration: 0.074hr]\n",
      "\n",
      "[]\n"
     ]
    }
   ],
   "source": [
    "generate_routes()"
   ]
  }
 ],
 "metadata": {
  "kernelspec": {
   "display_name": "Python 3",
   "language": "python",
   "name": "python3"
  },
  "language_info": {
   "codemirror_mode": {
    "name": "ipython",
    "version": 3
   },
   "file_extension": ".py",
   "mimetype": "text/x-python",
   "name": "python",
   "nbconvert_exporter": "python",
   "pygments_lexer": "ipython3",
   "version": "3.10.11"
  }
 },
 "nbformat": 4,
 "nbformat_minor": 2
}
